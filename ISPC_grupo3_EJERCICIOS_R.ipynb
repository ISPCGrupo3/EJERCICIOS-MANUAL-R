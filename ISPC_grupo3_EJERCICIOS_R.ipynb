{
  "nbformat": 4,
  "nbformat_minor": 0,
  "metadata": {
    "colab": {
      "name": "ISPC_grupo3_EJERCICIOS_R.ipynb",
      "provenance": [],
      "collapsed_sections": []
    },
    "kernelspec": {
      "name": "ir",
      "display_name": "R"
    },
    "language_info": {
      "name": "R"
    }
  },
  "cells": [
    {
      "cell_type": "markdown",
      "source": [
        "**EJERCICIOS**\n",
        "\n",
        "Use funciones o procedimientos (varias líneas) de R para responder cada una de las siguientes preguntas.\n",
        "\n",
        "\n",
        "\n",
        "\n",
        "\n",
        "\n",
        "\n",
        "\n",
        "\n",
        "\n",
        "\n"
      ],
      "metadata": {
        "id": "PiqRt_e7gLGt"
      }
    },
    {
      "cell_type": "markdown",
      "source": [
        "1- Construya un vector con la primeras 20 letras MAYÚSCULAS usando la función List item LETTERS."
      ],
      "metadata": {
        "id": "CiKZt5ygsUAt"
      }
    },
    {
      "cell_type": "code",
      "source": [
        "letras <- c(LETTERS[1:20]) \n",
        "lista <- letras\n",
        "lista"
      ],
      "metadata": {
        "colab": {
          "base_uri": "https://localhost:8080/",
          "height": 34
        },
        "id": "375_PY8RrWhT",
        "outputId": "aec954fe-9f1b-4d93-bee3-951cb85b02a3"
      },
      "execution_count": null,
      "outputs": [
        {
          "output_type": "display_data",
          "data": {
            "text/html": [
              "<style>\n",
              ".list-inline {list-style: none; margin:0; padding: 0}\n",
              ".list-inline>li {display: inline-block}\n",
              ".list-inline>li:not(:last-child)::after {content: \"\\00b7\"; padding: 0 .5ex}\n",
              "</style>\n",
              "<ol class=list-inline><li>'A'</li><li>'B'</li><li>'C'</li><li>'D'</li><li>'E'</li><li>'F'</li><li>'G'</li><li>'H'</li><li>'I'</li><li>'J'</li><li>'K'</li><li>'L'</li><li>'M'</li><li>'N'</li><li>'O'</li><li>'P'</li><li>'Q'</li><li>'R'</li><li>'S'</li><li>'T'</li></ol>\n"
            ],
            "text/markdown": "1. 'A'\n2. 'B'\n3. 'C'\n4. 'D'\n5. 'E'\n6. 'F'\n7. 'G'\n8. 'H'\n9. 'I'\n10. 'J'\n11. 'K'\n12. 'L'\n13. 'M'\n14. 'N'\n15. 'O'\n16. 'P'\n17. 'Q'\n18. 'R'\n19. 'S'\n20. 'T'\n\n\n",
            "text/latex": "\\begin{enumerate*}\n\\item 'A'\n\\item 'B'\n\\item 'C'\n\\item 'D'\n\\item 'E'\n\\item 'F'\n\\item 'G'\n\\item 'H'\n\\item 'I'\n\\item 'J'\n\\item 'K'\n\\item 'L'\n\\item 'M'\n\\item 'N'\n\\item 'O'\n\\item 'P'\n\\item 'Q'\n\\item 'R'\n\\item 'S'\n\\item 'T'\n\\end{enumerate*}\n",
            "text/plain": [
              " [1] \"A\" \"B\" \"C\" \"D\" \"E\" \"F\" \"G\" \"H\" \"I\" \"J\" \"K\" \"L\" \"M\" \"N\" \"O\" \"P\" \"Q\" \"R\" \"S\"\n",
              "[20] \"T\""
            ]
          },
          "metadata": {}
        }
      ]
    },
    {
      "cell_type": "markdown",
      "source": [
        "2- Construya una matriz de 10×10 Con los primeros 100 números positivos pares."
      ],
      "metadata": {
        "id": "dTUsNBPAsl7L"
      }
    },
    {
      "cell_type": "code",
      "source": [
        "tabla1 <- matrix(data=1:100, nrow=10, ncol=10, byrow=FALSE)\n",
        "tabla1_1 <- matrix(data=1:100, nrow=10, ncol=10, byrow=TRUE)\n",
        "\n",
        "nombre_tabla1 <- c(\"Matriz 10x10, número positivos del 1 al 100, entrada por columna\")\n",
        "nombre_tabla1\n",
        "tabla1\n",
        "\n",
        "nombre_tabla1_1 <- c(\"Matriz 10x10, número positivos del 1 al 100, entrada por fila\")\n",
        "nombre_tabla1_1\n",
        "tabla1_1\n"
      ],
      "metadata": {
        "colab": {
          "base_uri": "https://localhost:8080/",
          "height": 714
        },
        "id": "DaAmMDHvslYG",
        "outputId": "5864dd96-f51b-4278-92dd-36f17eb38cc1"
      },
      "execution_count": null,
      "outputs": [
        {
          "output_type": "display_data",
          "data": {
            "text/html": [
              "'Matriz 10x10, número positivos del 1 al 100, entrada por columna'"
            ],
            "text/markdown": "'Matriz 10x10, número positivos del 1 al 100, entrada por columna'",
            "text/latex": "'Matriz 10x10, número positivos del 1 al 100, entrada por columna'",
            "text/plain": [
              "[1] \"Matriz 10x10, número positivos del 1 al 100, entrada por columna\""
            ]
          },
          "metadata": {}
        },
        {
          "output_type": "display_data",
          "data": {
            "text/html": [
              "<table class=\"dataframe\">\n",
              "<caption>A matrix: 10 × 10 of type int</caption>\n",
              "<tbody>\n",
              "\t<tr><td> 1</td><td>11</td><td>21</td><td>31</td><td>41</td><td>51</td><td>61</td><td>71</td><td>81</td><td> 91</td></tr>\n",
              "\t<tr><td> 2</td><td>12</td><td>22</td><td>32</td><td>42</td><td>52</td><td>62</td><td>72</td><td>82</td><td> 92</td></tr>\n",
              "\t<tr><td> 3</td><td>13</td><td>23</td><td>33</td><td>43</td><td>53</td><td>63</td><td>73</td><td>83</td><td> 93</td></tr>\n",
              "\t<tr><td> 4</td><td>14</td><td>24</td><td>34</td><td>44</td><td>54</td><td>64</td><td>74</td><td>84</td><td> 94</td></tr>\n",
              "\t<tr><td> 5</td><td>15</td><td>25</td><td>35</td><td>45</td><td>55</td><td>65</td><td>75</td><td>85</td><td> 95</td></tr>\n",
              "\t<tr><td> 6</td><td>16</td><td>26</td><td>36</td><td>46</td><td>56</td><td>66</td><td>76</td><td>86</td><td> 96</td></tr>\n",
              "\t<tr><td> 7</td><td>17</td><td>27</td><td>37</td><td>47</td><td>57</td><td>67</td><td>77</td><td>87</td><td> 97</td></tr>\n",
              "\t<tr><td> 8</td><td>18</td><td>28</td><td>38</td><td>48</td><td>58</td><td>68</td><td>78</td><td>88</td><td> 98</td></tr>\n",
              "\t<tr><td> 9</td><td>19</td><td>29</td><td>39</td><td>49</td><td>59</td><td>69</td><td>79</td><td>89</td><td> 99</td></tr>\n",
              "\t<tr><td>10</td><td>20</td><td>30</td><td>40</td><td>50</td><td>60</td><td>70</td><td>80</td><td>90</td><td>100</td></tr>\n",
              "</tbody>\n",
              "</table>\n"
            ],
            "text/markdown": "\nA matrix: 10 × 10 of type int\n\n|  1 | 11 | 21 | 31 | 41 | 51 | 61 | 71 | 81 |  91 |\n|  2 | 12 | 22 | 32 | 42 | 52 | 62 | 72 | 82 |  92 |\n|  3 | 13 | 23 | 33 | 43 | 53 | 63 | 73 | 83 |  93 |\n|  4 | 14 | 24 | 34 | 44 | 54 | 64 | 74 | 84 |  94 |\n|  5 | 15 | 25 | 35 | 45 | 55 | 65 | 75 | 85 |  95 |\n|  6 | 16 | 26 | 36 | 46 | 56 | 66 | 76 | 86 |  96 |\n|  7 | 17 | 27 | 37 | 47 | 57 | 67 | 77 | 87 |  97 |\n|  8 | 18 | 28 | 38 | 48 | 58 | 68 | 78 | 88 |  98 |\n|  9 | 19 | 29 | 39 | 49 | 59 | 69 | 79 | 89 |  99 |\n| 10 | 20 | 30 | 40 | 50 | 60 | 70 | 80 | 90 | 100 |\n\n",
            "text/latex": "A matrix: 10 × 10 of type int\n\\begin{tabular}{llllllllll}\n\t  1 & 11 & 21 & 31 & 41 & 51 & 61 & 71 & 81 &  91\\\\\n\t  2 & 12 & 22 & 32 & 42 & 52 & 62 & 72 & 82 &  92\\\\\n\t  3 & 13 & 23 & 33 & 43 & 53 & 63 & 73 & 83 &  93\\\\\n\t  4 & 14 & 24 & 34 & 44 & 54 & 64 & 74 & 84 &  94\\\\\n\t  5 & 15 & 25 & 35 & 45 & 55 & 65 & 75 & 85 &  95\\\\\n\t  6 & 16 & 26 & 36 & 46 & 56 & 66 & 76 & 86 &  96\\\\\n\t  7 & 17 & 27 & 37 & 47 & 57 & 67 & 77 & 87 &  97\\\\\n\t  8 & 18 & 28 & 38 & 48 & 58 & 68 & 78 & 88 &  98\\\\\n\t  9 & 19 & 29 & 39 & 49 & 59 & 69 & 79 & 89 &  99\\\\\n\t 10 & 20 & 30 & 40 & 50 & 60 & 70 & 80 & 90 & 100\\\\\n\\end{tabular}\n",
            "text/plain": [
              "      [,1] [,2] [,3] [,4] [,5] [,6] [,7] [,8] [,9] [,10]\n",
              " [1,]  1   11   21   31   41   51   61   71   81    91  \n",
              " [2,]  2   12   22   32   42   52   62   72   82    92  \n",
              " [3,]  3   13   23   33   43   53   63   73   83    93  \n",
              " [4,]  4   14   24   34   44   54   64   74   84    94  \n",
              " [5,]  5   15   25   35   45   55   65   75   85    95  \n",
              " [6,]  6   16   26   36   46   56   66   76   86    96  \n",
              " [7,]  7   17   27   37   47   57   67   77   87    97  \n",
              " [8,]  8   18   28   38   48   58   68   78   88    98  \n",
              " [9,]  9   19   29   39   49   59   69   79   89    99  \n",
              "[10,] 10   20   30   40   50   60   70   80   90   100  "
            ]
          },
          "metadata": {}
        },
        {
          "output_type": "display_data",
          "data": {
            "text/html": [
              "'Matriz 10x10, número positivos del 1 al 100, entrada por fila'"
            ],
            "text/markdown": "'Matriz 10x10, número positivos del 1 al 100, entrada por fila'",
            "text/latex": "'Matriz 10x10, número positivos del 1 al 100, entrada por fila'",
            "text/plain": [
              "[1] \"Matriz 10x10, número positivos del 1 al 100, entrada por fila\""
            ]
          },
          "metadata": {}
        },
        {
          "output_type": "display_data",
          "data": {
            "text/html": [
              "<table class=\"dataframe\">\n",
              "<caption>A matrix: 10 × 10 of type int</caption>\n",
              "<tbody>\n",
              "\t<tr><td> 1</td><td> 2</td><td> 3</td><td> 4</td><td> 5</td><td> 6</td><td> 7</td><td> 8</td><td> 9</td><td> 10</td></tr>\n",
              "\t<tr><td>11</td><td>12</td><td>13</td><td>14</td><td>15</td><td>16</td><td>17</td><td>18</td><td>19</td><td> 20</td></tr>\n",
              "\t<tr><td>21</td><td>22</td><td>23</td><td>24</td><td>25</td><td>26</td><td>27</td><td>28</td><td>29</td><td> 30</td></tr>\n",
              "\t<tr><td>31</td><td>32</td><td>33</td><td>34</td><td>35</td><td>36</td><td>37</td><td>38</td><td>39</td><td> 40</td></tr>\n",
              "\t<tr><td>41</td><td>42</td><td>43</td><td>44</td><td>45</td><td>46</td><td>47</td><td>48</td><td>49</td><td> 50</td></tr>\n",
              "\t<tr><td>51</td><td>52</td><td>53</td><td>54</td><td>55</td><td>56</td><td>57</td><td>58</td><td>59</td><td> 60</td></tr>\n",
              "\t<tr><td>61</td><td>62</td><td>63</td><td>64</td><td>65</td><td>66</td><td>67</td><td>68</td><td>69</td><td> 70</td></tr>\n",
              "\t<tr><td>71</td><td>72</td><td>73</td><td>74</td><td>75</td><td>76</td><td>77</td><td>78</td><td>79</td><td> 80</td></tr>\n",
              "\t<tr><td>81</td><td>82</td><td>83</td><td>84</td><td>85</td><td>86</td><td>87</td><td>88</td><td>89</td><td> 90</td></tr>\n",
              "\t<tr><td>91</td><td>92</td><td>93</td><td>94</td><td>95</td><td>96</td><td>97</td><td>98</td><td>99</td><td>100</td></tr>\n",
              "</tbody>\n",
              "</table>\n"
            ],
            "text/markdown": "\nA matrix: 10 × 10 of type int\n\n|  1 |  2 |  3 |  4 |  5 |  6 |  7 |  8 |  9 |  10 |\n| 11 | 12 | 13 | 14 | 15 | 16 | 17 | 18 | 19 |  20 |\n| 21 | 22 | 23 | 24 | 25 | 26 | 27 | 28 | 29 |  30 |\n| 31 | 32 | 33 | 34 | 35 | 36 | 37 | 38 | 39 |  40 |\n| 41 | 42 | 43 | 44 | 45 | 46 | 47 | 48 | 49 |  50 |\n| 51 | 52 | 53 | 54 | 55 | 56 | 57 | 58 | 59 |  60 |\n| 61 | 62 | 63 | 64 | 65 | 66 | 67 | 68 | 69 |  70 |\n| 71 | 72 | 73 | 74 | 75 | 76 | 77 | 78 | 79 |  80 |\n| 81 | 82 | 83 | 84 | 85 | 86 | 87 | 88 | 89 |  90 |\n| 91 | 92 | 93 | 94 | 95 | 96 | 97 | 98 | 99 | 100 |\n\n",
            "text/latex": "A matrix: 10 × 10 of type int\n\\begin{tabular}{llllllllll}\n\t  1 &  2 &  3 &  4 &  5 &  6 &  7 &  8 &  9 &  10\\\\\n\t 11 & 12 & 13 & 14 & 15 & 16 & 17 & 18 & 19 &  20\\\\\n\t 21 & 22 & 23 & 24 & 25 & 26 & 27 & 28 & 29 &  30\\\\\n\t 31 & 32 & 33 & 34 & 35 & 36 & 37 & 38 & 39 &  40\\\\\n\t 41 & 42 & 43 & 44 & 45 & 46 & 47 & 48 & 49 &  50\\\\\n\t 51 & 52 & 53 & 54 & 55 & 56 & 57 & 58 & 59 &  60\\\\\n\t 61 & 62 & 63 & 64 & 65 & 66 & 67 & 68 & 69 &  70\\\\\n\t 71 & 72 & 73 & 74 & 75 & 76 & 77 & 78 & 79 &  80\\\\\n\t 81 & 82 & 83 & 84 & 85 & 86 & 87 & 88 & 89 &  90\\\\\n\t 91 & 92 & 93 & 94 & 95 & 96 & 97 & 98 & 99 & 100\\\\\n\\end{tabular}\n",
            "text/plain": [
              "      [,1] [,2] [,3] [,4] [,5] [,6] [,7] [,8] [,9] [,10]\n",
              " [1,]  1    2    3    4    5    6    7    8    9    10  \n",
              " [2,] 11   12   13   14   15   16   17   18   19    20  \n",
              " [3,] 21   22   23   24   25   26   27   28   29    30  \n",
              " [4,] 31   32   33   34   35   36   37   38   39    40  \n",
              " [5,] 41   42   43   44   45   46   47   48   49    50  \n",
              " [6,] 51   52   53   54   55   56   57   58   59    60  \n",
              " [7,] 61   62   63   64   65   66   67   68   69    70  \n",
              " [8,] 71   72   73   74   75   76   77   78   79    80  \n",
              " [9,] 81   82   83   84   85   86   87   88   89    90  \n",
              "[10,] 91   92   93   94   95   96   97   98   99   100  "
            ]
          },
          "metadata": {}
        }
      ]
    },
    {
      "cell_type": "markdown",
      "source": [
        "3- Construya una matriz identidad de dimension  3×3. Recuerde que una matriz identidad tiene sólo unos en la diagonal principal y los demás elementos son cero."
      ],
      "metadata": {
        "id": "roHEMFmMvvjT"
      }
    },
    {
      "cell_type": "code",
      "source": [
        "identidad <- diag(3)\n",
        "identidad"
      ],
      "metadata": {
        "colab": {
          "base_uri": "https://localhost:8080/",
          "height": 163
        },
        "id": "dc3liF-zv4v-",
        "outputId": "ea9719af-bc20-488e-d899-ed97baa2c1c4"
      },
      "execution_count": null,
      "outputs": [
        {
          "output_type": "display_data",
          "data": {
            "text/html": [
              "<table class=\"dataframe\">\n",
              "<caption>A matrix: 3 × 3 of type dbl</caption>\n",
              "<tbody>\n",
              "\t<tr><td>1</td><td>0</td><td>0</td></tr>\n",
              "\t<tr><td>0</td><td>1</td><td>0</td></tr>\n",
              "\t<tr><td>0</td><td>0</td><td>1</td></tr>\n",
              "</tbody>\n",
              "</table>\n"
            ],
            "text/markdown": "\nA matrix: 3 × 3 of type dbl\n\n| 1 | 0 | 0 |\n| 0 | 1 | 0 |\n| 0 | 0 | 1 |\n\n",
            "text/latex": "A matrix: 3 × 3 of type dbl\n\\begin{tabular}{lll}\n\t 1 & 0 & 0\\\\\n\t 0 & 1 & 0\\\\\n\t 0 & 0 & 1\\\\\n\\end{tabular}\n",
            "text/plain": [
              "     [,1] [,2] [,3]\n",
              "[1,] 1    0    0   \n",
              "[2,] 0    1    0   \n",
              "[3,] 0    0    1   "
            ]
          },
          "metadata": {}
        }
      ]
    },
    {
      "cell_type": "markdown",
      "source": [
        "4- Construya una lista con los anteriores tres objetos creados."
      ],
      "metadata": {
        "id": "5oxH1FIvwbYh"
      }
    },
    {
      "cell_type": "code",
      "source": [
        "lista_madre <- list(lista,tabla1,identidad)\n",
        "lista_madre"
      ],
      "metadata": {
        "colab": {
          "base_uri": "https://localhost:8080/",
          "height": 539
        },
        "id": "gBYd-4czwgbE",
        "outputId": "4258a3b5-dcfd-421c-9abe-1bfa01860749"
      },
      "execution_count": null,
      "outputs": [
        {
          "output_type": "display_data",
          "data": {
            "text/html": [
              "<ol>\n",
              "\t<li><style>\n",
              ".list-inline {list-style: none; margin:0; padding: 0}\n",
              ".list-inline>li {display: inline-block}\n",
              ".list-inline>li:not(:last-child)::after {content: \"\\00b7\"; padding: 0 .5ex}\n",
              "</style>\n",
              "<ol class=list-inline><li>'A'</li><li>'B'</li><li>'C'</li><li>'D'</li><li>'E'</li><li>'F'</li><li>'G'</li><li>'H'</li><li>'I'</li><li>'J'</li><li>'K'</li><li>'L'</li><li>'M'</li><li>'N'</li><li>'O'</li><li>'P'</li><li>'Q'</li><li>'R'</li><li>'S'</li><li>'T'</li></ol>\n",
              "</li>\n",
              "\t<li><table class=\"dataframe\">\n",
              "<caption>A matrix: 10 × 10 of type int</caption>\n",
              "<tbody>\n",
              "\t<tr><td> 1</td><td>11</td><td>21</td><td>31</td><td>41</td><td>51</td><td>61</td><td>71</td><td>81</td><td> 91</td></tr>\n",
              "\t<tr><td> 2</td><td>12</td><td>22</td><td>32</td><td>42</td><td>52</td><td>62</td><td>72</td><td>82</td><td> 92</td></tr>\n",
              "\t<tr><td> 3</td><td>13</td><td>23</td><td>33</td><td>43</td><td>53</td><td>63</td><td>73</td><td>83</td><td> 93</td></tr>\n",
              "\t<tr><td> 4</td><td>14</td><td>24</td><td>34</td><td>44</td><td>54</td><td>64</td><td>74</td><td>84</td><td> 94</td></tr>\n",
              "\t<tr><td> 5</td><td>15</td><td>25</td><td>35</td><td>45</td><td>55</td><td>65</td><td>75</td><td>85</td><td> 95</td></tr>\n",
              "\t<tr><td> 6</td><td>16</td><td>26</td><td>36</td><td>46</td><td>56</td><td>66</td><td>76</td><td>86</td><td> 96</td></tr>\n",
              "\t<tr><td> 7</td><td>17</td><td>27</td><td>37</td><td>47</td><td>57</td><td>67</td><td>77</td><td>87</td><td> 97</td></tr>\n",
              "\t<tr><td> 8</td><td>18</td><td>28</td><td>38</td><td>48</td><td>58</td><td>68</td><td>78</td><td>88</td><td> 98</td></tr>\n",
              "\t<tr><td> 9</td><td>19</td><td>29</td><td>39</td><td>49</td><td>59</td><td>69</td><td>79</td><td>89</td><td> 99</td></tr>\n",
              "\t<tr><td>10</td><td>20</td><td>30</td><td>40</td><td>50</td><td>60</td><td>70</td><td>80</td><td>90</td><td>100</td></tr>\n",
              "</tbody>\n",
              "</table>\n",
              "</li>\n",
              "\t<li><table class=\"dataframe\">\n",
              "<caption>A matrix: 3 × 3 of type dbl</caption>\n",
              "<tbody>\n",
              "\t<tr><td>1</td><td>0</td><td>0</td></tr>\n",
              "\t<tr><td>0</td><td>1</td><td>0</td></tr>\n",
              "\t<tr><td>0</td><td>0</td><td>1</td></tr>\n",
              "</tbody>\n",
              "</table>\n",
              "</li>\n",
              "</ol>\n"
            ],
            "text/markdown": "1. 1. 'A'\n2. 'B'\n3. 'C'\n4. 'D'\n5. 'E'\n6. 'F'\n7. 'G'\n8. 'H'\n9. 'I'\n10. 'J'\n11. 'K'\n12. 'L'\n13. 'M'\n14. 'N'\n15. 'O'\n16. 'P'\n17. 'Q'\n18. 'R'\n19. 'S'\n20. 'T'\n\n\n\n2. \nA matrix: 10 × 10 of type int\n\n|  1 | 11 | 21 | 31 | 41 | 51 | 61 | 71 | 81 |  91 |\n|  2 | 12 | 22 | 32 | 42 | 52 | 62 | 72 | 82 |  92 |\n|  3 | 13 | 23 | 33 | 43 | 53 | 63 | 73 | 83 |  93 |\n|  4 | 14 | 24 | 34 | 44 | 54 | 64 | 74 | 84 |  94 |\n|  5 | 15 | 25 | 35 | 45 | 55 | 65 | 75 | 85 |  95 |\n|  6 | 16 | 26 | 36 | 46 | 56 | 66 | 76 | 86 |  96 |\n|  7 | 17 | 27 | 37 | 47 | 57 | 67 | 77 | 87 |  97 |\n|  8 | 18 | 28 | 38 | 48 | 58 | 68 | 78 | 88 |  98 |\n|  9 | 19 | 29 | 39 | 49 | 59 | 69 | 79 | 89 |  99 |\n| 10 | 20 | 30 | 40 | 50 | 60 | 70 | 80 | 90 | 100 |\n\n\n3. \nA matrix: 3 × 3 of type dbl\n\n| 1 | 0 | 0 |\n| 0 | 1 | 0 |\n| 0 | 0 | 1 |\n\n\n\n\n",
            "text/latex": "\\begin{enumerate}\n\\item \\begin{enumerate*}\n\\item 'A'\n\\item 'B'\n\\item 'C'\n\\item 'D'\n\\item 'E'\n\\item 'F'\n\\item 'G'\n\\item 'H'\n\\item 'I'\n\\item 'J'\n\\item 'K'\n\\item 'L'\n\\item 'M'\n\\item 'N'\n\\item 'O'\n\\item 'P'\n\\item 'Q'\n\\item 'R'\n\\item 'S'\n\\item 'T'\n\\end{enumerate*}\n\n\\item A matrix: 10 × 10 of type int\n\\begin{tabular}{llllllllll}\n\t  1 & 11 & 21 & 31 & 41 & 51 & 61 & 71 & 81 &  91\\\\\n\t  2 & 12 & 22 & 32 & 42 & 52 & 62 & 72 & 82 &  92\\\\\n\t  3 & 13 & 23 & 33 & 43 & 53 & 63 & 73 & 83 &  93\\\\\n\t  4 & 14 & 24 & 34 & 44 & 54 & 64 & 74 & 84 &  94\\\\\n\t  5 & 15 & 25 & 35 & 45 & 55 & 65 & 75 & 85 &  95\\\\\n\t  6 & 16 & 26 & 36 & 46 & 56 & 66 & 76 & 86 &  96\\\\\n\t  7 & 17 & 27 & 37 & 47 & 57 & 67 & 77 & 87 &  97\\\\\n\t  8 & 18 & 28 & 38 & 48 & 58 & 68 & 78 & 88 &  98\\\\\n\t  9 & 19 & 29 & 39 & 49 & 59 & 69 & 79 & 89 &  99\\\\\n\t 10 & 20 & 30 & 40 & 50 & 60 & 70 & 80 & 90 & 100\\\\\n\\end{tabular}\n\n\\item A matrix: 3 × 3 of type dbl\n\\begin{tabular}{lll}\n\t 1 & 0 & 0\\\\\n\t 0 & 1 & 0\\\\\n\t 0 & 0 & 1\\\\\n\\end{tabular}\n\n\\end{enumerate}\n",
            "text/plain": [
              "[[1]]\n",
              " [1] \"A\" \"B\" \"C\" \"D\" \"E\" \"F\" \"G\" \"H\" \"I\" \"J\" \"K\" \"L\" \"M\" \"N\" \"O\" \"P\" \"Q\" \"R\" \"S\"\n",
              "[20] \"T\"\n",
              "\n",
              "[[2]]\n",
              "      [,1] [,2] [,3] [,4] [,5] [,6] [,7] [,8] [,9] [,10]\n",
              " [1,]    1   11   21   31   41   51   61   71   81    91\n",
              " [2,]    2   12   22   32   42   52   62   72   82    92\n",
              " [3,]    3   13   23   33   43   53   63   73   83    93\n",
              " [4,]    4   14   24   34   44   54   64   74   84    94\n",
              " [5,]    5   15   25   35   45   55   65   75   85    95\n",
              " [6,]    6   16   26   36   46   56   66   76   86    96\n",
              " [7,]    7   17   27   37   47   57   67   77   87    97\n",
              " [8,]    8   18   28   38   48   58   68   78   88    98\n",
              " [9,]    9   19   29   39   49   59   69   79   89    99\n",
              "[10,]   10   20   30   40   50   60   70   80   90   100\n",
              "\n",
              "[[3]]\n",
              "     [,1] [,2] [,3]\n",
              "[1,]    1    0    0\n",
              "[2,]    0    1    0\n",
              "[3,]    0    0    1\n"
            ]
          },
          "metadata": {}
        }
      ]
    },
    {
      "cell_type": "markdown",
      "source": [
        "5- Construya un marco de datos o data frame con las respuestas de 3 personas a las preguntas: (a) ¿Cuál es su edad en años? (b) ¿Tipo de música que más le gusta? (c) ¿Tiene usted pareja sentimental estable?"
      ],
      "metadata": {
        "id": "-MmzrQ6exKjf"
      }
    },
    {
      "cell_type": "code",
      "source": [
        "edad <- c(57,21,25)\n",
        "musica <- c('jazz','indie','R&B')\n",
        "pareja <-c(TRUE,FALSE,TRUE)\n",
        "\n",
        "df_1 <- data.frame(edad,musica,pareja)\n",
        "df_1\n"
      ],
      "metadata": {
        "colab": {
          "base_uri": "https://localhost:8080/",
          "height": 192
        },
        "id": "P90SKDdxxP0W",
        "outputId": "970a69d1-3dc7-4b41-e816-663552abfbec"
      },
      "execution_count": null,
      "outputs": [
        {
          "output_type": "display_data",
          "data": {
            "text/html": [
              "<table class=\"dataframe\">\n",
              "<caption>A data.frame: 3 × 3</caption>\n",
              "<thead>\n",
              "\t<tr><th scope=col>edad</th><th scope=col>musica</th><th scope=col>pareja</th></tr>\n",
              "\t<tr><th scope=col>&lt;dbl&gt;</th><th scope=col>&lt;chr&gt;</th><th scope=col>&lt;lgl&gt;</th></tr>\n",
              "</thead>\n",
              "<tbody>\n",
              "\t<tr><td>57</td><td>jazz </td><td> TRUE</td></tr>\n",
              "\t<tr><td>21</td><td>indie</td><td>FALSE</td></tr>\n",
              "\t<tr><td>25</td><td><span style=white-space:pre-wrap>R&amp;B  </span></td><td> TRUE</td></tr>\n",
              "</tbody>\n",
              "</table>\n"
            ],
            "text/markdown": "\nA data.frame: 3 × 3\n\n| edad &lt;dbl&gt; | musica &lt;chr&gt; | pareja &lt;lgl&gt; |\n|---|---|---|\n| 57 | jazz  |  TRUE |\n| 21 | indie | FALSE |\n| 25 | R&amp;B   |  TRUE |\n\n",
            "text/latex": "A data.frame: 3 × 3\n\\begin{tabular}{lll}\n edad & musica & pareja\\\\\n <dbl> & <chr> & <lgl>\\\\\n\\hline\n\t 57 & jazz  &  TRUE\\\\\n\t 21 & indie & FALSE\\\\\n\t 25 & R\\&B   &  TRUE\\\\\n\\end{tabular}\n",
            "text/plain": [
              "  edad musica pareja\n",
              "1 57   jazz    TRUE \n",
              "2 21   indie  FALSE \n",
              "3 25   R&B     TRUE "
            ]
          },
          "metadata": {}
        }
      ]
    },
    {
      "cell_type": "markdown",
      "source": [
        "6- ¿Cuál es el error al correr el siguiente código? ¿A qué se debe?\n",
        "\n",
        "    edad <- c(15, 19, 13, NA, 20)\n",
        "    deporte <- c(TRUE, TRUE, NA, FALSE, TRUE)\n",
        "    comic_fav <- c(NA, 'Superman', 'Batman', NA, 'Batman')\n",
        "    matrix(edad, deporte, comic_fav)\n",
        "\n",
        "    \n",
        "# RESPUESTA PUNTO 6:    \n",
        "\n",
        "**ANTES DE CONSTRUIR LA MARIZ ES NECESARIO UNIR LOS VECTORES, LUEGO ESTRUCTURAR LA MATRIZ (DATOS, FILAS, COLUMNAS, ENTRADA)**"
      ],
      "metadata": {
        "id": "iNJ36EYizCNY"
      }
    },
    {
      "cell_type": "code",
      "source": [
        "edad <- c(15, 19, 13, NA, 20)\n",
        "deporte <- c(TRUE, TRUE, NA, FALSE, TRUE)\n",
        "comic_fav <- c(NA, 'Superman', 'Batman', NA, 'Batman')\n",
        "datos <- c(edad,deporte,comic_fav)   #UNIMOS VECTORES\n",
        "matriz3 <- matrix(data=datos, nrow = 5, ncol=3, byrow = FALSE)  #ESTRUCTURAMOS LA MATRIZ\n",
        "\n",
        "colnames(matriz3)<-c(\"EDAD\",\"DEPORTE\",\"COMIC\")   #NOMBRAMOS LAS COLUMNAS\n",
        "matriz3\n",
        "\n"
      ],
      "metadata": {
        "colab": {
          "base_uri": "https://localhost:8080/",
          "height": 224
        },
        "id": "7QhY9hFUPuxo",
        "outputId": "65d8263f-1a29-4150-ddfb-ad70c57aa4bd"
      },
      "execution_count": null,
      "outputs": [
        {
          "output_type": "display_data",
          "data": {
            "text/html": [
              "<table class=\"dataframe\">\n",
              "<caption>A matrix: 5 × 3 of type chr</caption>\n",
              "<thead>\n",
              "\t<tr><th scope=col>EDAD</th><th scope=col>DEPORTE</th><th scope=col>COMIC</th></tr>\n",
              "</thead>\n",
              "<tbody>\n",
              "\t<tr><td>15</td><td>TRUE </td><td>NA      </td></tr>\n",
              "\t<tr><td>19</td><td>TRUE </td><td>Superman</td></tr>\n",
              "\t<tr><td>13</td><td>NA   </td><td>Batman  </td></tr>\n",
              "\t<tr><td>NA</td><td>FALSE</td><td>NA      </td></tr>\n",
              "\t<tr><td>20</td><td>TRUE </td><td>Batman  </td></tr>\n",
              "</tbody>\n",
              "</table>\n"
            ],
            "text/markdown": "\nA matrix: 5 × 3 of type chr\n\n| EDAD | DEPORTE | COMIC |\n|---|---|---|\n| 15 | TRUE  | NA       |\n| 19 | TRUE  | Superman |\n| 13 | NA    | Batman   |\n| NA | FALSE | NA       |\n| 20 | TRUE  | Batman   |\n\n",
            "text/latex": "A matrix: 5 × 3 of type chr\n\\begin{tabular}{lll}\n EDAD & DEPORTE & COMIC\\\\\n\\hline\n\t 15 & TRUE  & NA      \\\\\n\t 19 & TRUE  & Superman\\\\\n\t 13 & NA    & Batman  \\\\\n\t NA & FALSE & NA      \\\\\n\t 20 & TRUE  & Batman  \\\\\n\\end{tabular}\n",
            "text/plain": [
              "     EDAD DEPORTE COMIC   \n",
              "[1,] 15   TRUE    NA      \n",
              "[2,] 19   TRUE    Superman\n",
              "[3,] 13   NA      Batman  \n",
              "[4,] NA   FALSE   NA      \n",
              "[5,] 20   TRUE    Batman  "
            ]
          },
          "metadata": {}
        }
      ]
    },
    {
      "cell_type": "code",
      "source": [
        "#solución apilando listas\n",
        "edad <- c(15, 19, 13, NA, 20)\n",
        "deporte <- c(TRUE, TRUE, NA, FALSE, TRUE)\n",
        "comic_fav <- c(NA, 'Superman', 'Batman', NA, 'Batman')\n",
        "\n",
        "\n",
        "matriz_sin_error1 <- matrix(c(15, 19, 13, NA, 20), ncol = 5, byrow = TRUE)\n",
        "matriz_sin_error2 <- matrix(c(TRUE, TRUE, NA, FALSE, TRUE), ncol = 5, byrow = TRUE)\n",
        "matriz_sin_error3 <- matrix(c(NA, 'Superman', 'Batman', NA, 'Batman'), ncol = 5, byrow = TRUE)\n",
        "\n",
        "rownames(matriz_sin_error1) <- c(\"EDAD\")\n",
        "rownames(matriz_sin_error2) <- c(\"DEPORTE\")\n",
        "rownames(matriz_sin_error3) <- c(\"COMIC\")\n",
        "\n",
        "rbind (matriz_sin_error1,matriz_sin_error2,matriz_sin_error3)\n"
      ],
      "metadata": {
        "colab": {
          "base_uri": "https://localhost:8080/",
          "height": 128
        },
        "id": "eSzidpLczIU5",
        "outputId": "3a69c068-6fd1-4483-b56d-ff887177e386"
      },
      "execution_count": null,
      "outputs": [
        {
          "output_type": "display_data",
          "data": {
            "text/html": [
              "<table class=\"dataframe\">\n",
              "<caption>A matrix: 3 × 5 of type chr</caption>\n",
              "<tbody>\n",
              "\t<tr><th scope=row>EDAD</th><td>15  </td><td>19      </td><td>13    </td><td>NA   </td><td>20    </td></tr>\n",
              "\t<tr><th scope=row>DEPORTE</th><td>TRUE</td><td>TRUE    </td><td>NA    </td><td>FALSE</td><td>TRUE  </td></tr>\n",
              "\t<tr><th scope=row>COMIC</th><td>NA  </td><td>Superman</td><td>Batman</td><td>NA   </td><td>Batman</td></tr>\n",
              "</tbody>\n",
              "</table>\n"
            ],
            "text/markdown": "\nA matrix: 3 × 5 of type chr\n\n| EDAD | 15   | 19       | 13     | NA    | 20     |\n| DEPORTE | TRUE | TRUE     | NA     | FALSE | TRUE   |\n| COMIC | NA   | Superman | Batman | NA    | Batman |\n\n",
            "text/latex": "A matrix: 3 × 5 of type chr\n\\begin{tabular}{r|lllll}\n\tEDAD & 15   & 19       & 13     & NA    & 20    \\\\\n\tDEPORTE & TRUE & TRUE     & NA     & FALSE & TRUE  \\\\\n\tCOMIC & NA   & Superman & Batman & NA    & Batman\\\\\n\\end{tabular}\n",
            "text/plain": [
              "        [,1] [,2]     [,3]   [,4]  [,5]  \n",
              "EDAD    15   19       13     NA    20    \n",
              "DEPORTE TRUE TRUE     NA     FALSE TRUE  \n",
              "COMIC   NA   Superman Batman NA    Batman"
            ]
          },
          "metadata": {}
        }
      ]
    },
    {
      "cell_type": "code",
      "source": [
        "#Solución almacenando variables\n",
        "x <- cbind(edad, deporte, comic_fav)\n",
        "x"
      ],
      "metadata": {
        "colab": {
          "base_uri": "https://localhost:8080/",
          "height": 224
        },
        "id": "KUktSrc26It9",
        "outputId": "31856c4e-28f4-462f-ab18-b49b99343143"
      },
      "execution_count": null,
      "outputs": [
        {
          "output_type": "display_data",
          "data": {
            "text/html": [
              "<table class=\"dataframe\">\n",
              "<caption>A matrix: 5 × 3 of type chr</caption>\n",
              "<thead>\n",
              "\t<tr><th scope=col>edad</th><th scope=col>deporte</th><th scope=col>comic_fav</th></tr>\n",
              "</thead>\n",
              "<tbody>\n",
              "\t<tr><td>15</td><td>TRUE </td><td>NA      </td></tr>\n",
              "\t<tr><td>19</td><td>TRUE </td><td>Superman</td></tr>\n",
              "\t<tr><td>13</td><td>NA   </td><td>Batman  </td></tr>\n",
              "\t<tr><td>NA</td><td>FALSE</td><td>NA      </td></tr>\n",
              "\t<tr><td>20</td><td>TRUE </td><td>Batman  </td></tr>\n",
              "</tbody>\n",
              "</table>\n"
            ],
            "text/markdown": "\nA matrix: 5 × 3 of type chr\n\n| edad | deporte | comic_fav |\n|---|---|---|\n| 15 | TRUE  | NA       |\n| 19 | TRUE  | Superman |\n| 13 | NA    | Batman   |\n| NA | FALSE | NA       |\n| 20 | TRUE  | Batman   |\n\n",
            "text/latex": "A matrix: 5 × 3 of type chr\n\\begin{tabular}{lll}\n edad & deporte & comic\\_fav\\\\\n\\hline\n\t 15 & TRUE  & NA      \\\\\n\t 19 & TRUE  & Superman\\\\\n\t 13 & NA    & Batman  \\\\\n\t NA & FALSE & NA      \\\\\n\t 20 & TRUE  & Batman  \\\\\n\\end{tabular}\n",
            "text/plain": [
              "     edad deporte comic_fav\n",
              "[1,] 15   TRUE    NA       \n",
              "[2,] 19   TRUE    Superman \n",
              "[3,] 13   NA      Batman   \n",
              "[4,] NA   FALSE   NA       \n",
              "[5,] 20   TRUE    Batman   "
            ]
          },
          "metadata": {}
        }
      ]
    }
  ]
}